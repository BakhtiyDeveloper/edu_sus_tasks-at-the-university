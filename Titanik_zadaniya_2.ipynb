{
  "nbformat": 4,
  "nbformat_minor": 0,
  "metadata": {
    "colab": {
      "provenance": [],
      "private_outputs": true,
      "authorship_tag": "ABX9TyO8HMzWjBE+jKRkB65VxMSQ",
      "include_colab_link": true
    },
    "kernelspec": {
      "name": "python3",
      "display_name": "Python 3"
    },
    "language_info": {
      "name": "python"
    },
    "accelerator": "GPU",
    "gpuClass": "standard"
  },
  "cells": [
    {
      "cell_type": "markdown",
      "metadata": {
        "id": "view-in-github",
        "colab_type": "text"
      },
      "source": [
        "<a href=\"https://colab.research.google.com/github/BakhtiyDeveloper/edu_sus_tasks-at-the-university/blob/main/Titanik_zadaniya_2.ipynb\" target=\"_parent\"><img src=\"https://colab.research.google.com/assets/colab-badge.svg\" alt=\"Open In Colab\"/></a>"
      ]
    },
    {
      "cell_type": "code",
      "source": [
        "import pandas as pd  \n",
        "import numpy as np\n",
        "import matplotlib.pyplot as plt\n",
        "from sklearn.model_selection import train_test_split\n",
        "from sklearn.neighbors import KNeighborsClassifier\n",
        "from sklearn.metrics import classification_report\n",
        "from sklearn.metrics import confusion_matrix"
      ],
      "metadata": {
        "id": "AVdq2xXN8aMN"
      },
      "execution_count": null,
      "outputs": []
    },
    {
      "cell_type": "code",
      "source": [
        "datafr = pd.read_csv('/content/train.csv')"
      ],
      "metadata": {
        "id": "zqs2jj798rFB"
      },
      "execution_count": null,
      "outputs": []
    },
    {
      "cell_type": "code",
      "source": [
        "datafr.head()"
      ],
      "metadata": {
        "id": "SQT_N3DJ9D5p"
      },
      "execution_count": null,
      "outputs": []
    },
    {
      "cell_type": "code",
      "source": [
        "datafr.describe()"
      ],
      "metadata": {
        "id": "S1fub-8F9kZx"
      },
      "execution_count": null,
      "outputs": []
    },
    {
      "cell_type": "markdown",
      "source": [
        "Заменим пропуски в возрасте средним значением по возрасту"
      ],
      "metadata": {
        "id": "9fDx3zjB-ey6"
      }
    },
    {
      "cell_type": "code",
      "source": [
        "datafr['Age'].fillna(datafr['Age'].mean(), inplace=True)"
      ],
      "metadata": {
        "id": "oqfJYeE292NB"
      },
      "execution_count": null,
      "outputs": []
    },
    {
      "cell_type": "markdown",
      "source": [
        "Заменим пропуски о проезде  плату за проезд средней оплатой\n",
        "\n",
        "\n",
        "\n"
      ],
      "metadata": {
        "id": "LCqPno3N-izJ"
      }
    },
    {
      "cell_type": "code",
      "source": [
        "datafr['Fare'].fillna(datafr['Fare'].mean(), inplace=True)"
      ],
      "metadata": {
        "id": "svuSxOIk-Nhq"
      },
      "execution_count": null,
      "outputs": []
    },
    {
      "cell_type": "markdown",
      "source": [
        "Заменим male = 0 female = 1\n",
        "\n",
        "\n",
        "\n",
        "\n"
      ],
      "metadata": {
        "id": "a641WML_-uuB"
      }
    },
    {
      "cell_type": "code",
      "source": [
        "datafr['Sex'].replace('female', 1 ,inplace=True)\n",
        "datafr['Sex'].replace('male',0 ,inplace=True)"
      ],
      "metadata": {
        "id": "-oNTzXdO-V9C"
      },
      "execution_count": null,
      "outputs": []
    },
    {
      "cell_type": "code",
      "source": [
        "datafr['Embarked'].fillna(value='S',inplace=True)"
      ],
      "metadata": {
        "id": "77j2Ttx_--7i"
      },
      "execution_count": null,
      "outputs": []
    },
    {
      "cell_type": "code",
      "source": [
        "datafr"
      ],
      "metadata": {
        "id": "WSkGPIbY_CFR"
      },
      "execution_count": null,
      "outputs": []
    },
    {
      "cell_type": "code",
      "source": [
        "datafr['Embarked'].replace('S', 0 ,inplace=True)\n",
        "datafr['Embarked'].replace('C', 1 ,inplace=True)\n",
        "datafr['Embarked'].replace('Q', 2 ,inplace=True)"
      ],
      "metadata": {
        "id": "QB3kM-9o_EK5"
      },
      "execution_count": null,
      "outputs": []
    },
    {
      "cell_type": "code",
      "source": [
        "datafr.head()"
      ],
      "metadata": {
        "id": "b-wozeFQ_MzZ"
      },
      "execution_count": null,
      "outputs": []
    },
    {
      "cell_type": "code",
      "source": [
        "X = datafr[['Pclass', 'Sex', 'Age', 'SibSp', 'Parch', 'Fare', 'Embarked']]"
      ],
      "metadata": {
        "id": "hfAJdqaC_f3f"
      },
      "execution_count": null,
      "outputs": []
    },
    {
      "cell_type": "code",
      "source": [
        "X[X.isnull().any(1)]"
      ],
      "metadata": {
        "id": "ZQdDIUDI_paC"
      },
      "execution_count": null,
      "outputs": []
    },
    {
      "cell_type": "code",
      "source": [
        "Y = datafr['Survived']"
      ],
      "metadata": {
        "id": "vc5FZn2s_tPZ"
      },
      "execution_count": null,
      "outputs": []
    },
    {
      "cell_type": "markdown",
      "source": [
        "РАЗОБЬЕМ НА ВЫБОРКУ"
      ],
      "metadata": {
        "id": "q3TXr30p_3bs"
      }
    },
    {
      "cell_type": "code",
      "source": [
        "X_train, X_test, y_train, y_test = train_test_split(X, Y, test_size=0.30)"
      ],
      "metadata": {
        "id": "RcFT-IOh_ySp"
      },
      "execution_count": null,
      "outputs": []
    },
    {
      "cell_type": "markdown",
      "source": [
        "обучим модель"
      ],
      "metadata": {
        "id": "dD2GETYqArWC"
      }
    },
    {
      "cell_type": "code",
      "source": [
        "model = KNeighborsClassifier(n_neighbors = 1)\n",
        "model.fit(X_train, y_train)"
      ],
      "metadata": {
        "id": "MUrtH0AAAICz"
      },
      "execution_count": null,
      "outputs": []
    },
    {
      "cell_type": "code",
      "source": [
        "predictions = model.predict(X_test)"
      ],
      "metadata": {
        "id": "KT3sHxgtA2aR"
      },
      "execution_count": null,
      "outputs": []
    },
    {
      "cell_type": "code",
      "source": [
        "print(classification_report(y_test, predictions))"
      ],
      "metadata": {
        "id": "6cHmQzUdA3fX"
      },
      "execution_count": null,
      "outputs": []
    },
    {
      "cell_type": "code",
      "source": [
        "print(confusion_matrix(y_test, predictions))"
      ],
      "metadata": {
        "id": "3mjJamTiBAtR"
      },
      "execution_count": null,
      "outputs": []
    },
    {
      "cell_type": "code",
      "source": [
        "model = KNeighborsClassifier(n_neighbors = 2)\n",
        "model.fit(X_train, y_train)\n",
        "predictions = model.predict(X_test)\n",
        "print(classification_report(y_test, predictions))"
      ],
      "metadata": {
        "id": "ajSzTjAjBF_p"
      },
      "execution_count": null,
      "outputs": []
    },
    {
      "cell_type": "code",
      "source": [
        "model = KNeighborsClassifier(n_neighbors = 3)\n",
        "model.fit(X_train, y_train)\n",
        "predictions = model.predict(X_test)\n",
        "print(classification_report(y_test, predictions))"
      ],
      "metadata": {
        "id": "0lSHXLHmBKJ5"
      },
      "execution_count": null,
      "outputs": []
    },
    {
      "cell_type": "code",
      "source": [
        "model = KNeighborsClassifier(n_neighbors = 4)\n",
        "model.fit(X_train, y_train)\n",
        "predictions = model.predict(X_test)\n",
        "print(classification_report(y_test, predictions))"
      ],
      "metadata": {
        "id": "X88xmSVTBOXB"
      },
      "execution_count": null,
      "outputs": []
    },
    {
      "cell_type": "code",
      "source": [
        "model = KNeighborsClassifier(n_neighbors = 5)\n",
        "model.fit(X_train, y_train)\n",
        "predictions = model.predict(X_test)\n",
        "print(classification_report(y_test, predictions))"
      ],
      "metadata": {
        "id": "alz4Qv0xBSWc"
      },
      "execution_count": null,
      "outputs": []
    },
    {
      "cell_type": "code",
      "source": [
        "model = KNeighborsClassifier(n_neighbors = 6)\n",
        "model.fit(X_train, y_train)\n",
        "predictions = model.predict(X_test)\n",
        "print(classification_report(y_test, predictions))"
      ],
      "metadata": {
        "id": "Ip_xYTEPBWDZ"
      },
      "execution_count": null,
      "outputs": []
    },
    {
      "cell_type": "code",
      "source": [
        "model = KNeighborsClassifier(n_neighbors = 7)\n",
        "model.fit(X_train, y_train)\n",
        "predictions = model.predict(X_test)\n",
        "print(classification_report(y_test, predictions))"
      ],
      "metadata": {
        "id": "pNGgpzfbBZ2R"
      },
      "execution_count": null,
      "outputs": []
    },
    {
      "cell_type": "code",
      "source": [
        "model = KNeighborsClassifier(n_neighbors = 8)\n",
        "model.fit(X_train, y_train)\n",
        "predictions = model.predict(X_test)\n",
        "print(classification_report(y_test, predictions))"
      ],
      "metadata": {
        "id": "Kf1CcxGLBiRp"
      },
      "execution_count": null,
      "outputs": []
    },
    {
      "cell_type": "code",
      "source": [
        "error_rates = []\n",
        "for i in np.arange(1, 101):\n",
        "    new_model = KNeighborsClassifier(n_neighbors = i)\n",
        "    new_model.fit(X_train, y_train)\n",
        "    new_predictions = new_model.predict(X_test)\n",
        "    error_rates.append(np.mean(new_predictions != y_test))\n",
        "\n",
        "plt.plot(error_rates)\n",
        "plt.show()"
      ],
      "metadata": {
        "id": "G1pbuLjsBkmL"
      },
      "execution_count": null,
      "outputs": []
    }
  ]
}